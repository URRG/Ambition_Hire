{
  "nbformat": 4,
  "nbformat_minor": 0,
  "metadata": {
    "colab": {
      "provenance": []
    },
    "kernelspec": {
      "name": "python3",
      "display_name": "Python 3"
    },
    "language_info": {
      "name": "python"
    }
  },
  "cells": [
    {
      "cell_type": "code",
      "source": [
        "pip install spacy\n"
      ],
      "metadata": {
        "colab": {
          "base_uri": "https://localhost:8080/"
        },
        "id": "F7zZ96R3Che-",
        "outputId": "c13ca830-4a9e-41ca-8896-a15f862c01f2"
      },
      "execution_count": 1,
      "outputs": [
        {
          "output_type": "stream",
          "name": "stdout",
          "text": [
            "Requirement already satisfied: spacy in /usr/local/lib/python3.10/dist-packages (3.6.1)\n",
            "Requirement already satisfied: spacy-legacy<3.1.0,>=3.0.11 in /usr/local/lib/python3.10/dist-packages (from spacy) (3.0.12)\n",
            "Requirement already satisfied: spacy-loggers<2.0.0,>=1.0.0 in /usr/local/lib/python3.10/dist-packages (from spacy) (1.0.5)\n",
            "Requirement already satisfied: murmurhash<1.1.0,>=0.28.0 in /usr/local/lib/python3.10/dist-packages (from spacy) (1.0.10)\n",
            "Requirement already satisfied: cymem<2.1.0,>=2.0.2 in /usr/local/lib/python3.10/dist-packages (from spacy) (2.0.8)\n",
            "Requirement already satisfied: preshed<3.1.0,>=3.0.2 in /usr/local/lib/python3.10/dist-packages (from spacy) (3.0.9)\n",
            "Requirement already satisfied: thinc<8.2.0,>=8.1.8 in /usr/local/lib/python3.10/dist-packages (from spacy) (8.1.12)\n",
            "Requirement already satisfied: wasabi<1.2.0,>=0.9.1 in /usr/local/lib/python3.10/dist-packages (from spacy) (1.1.2)\n",
            "Requirement already satisfied: srsly<3.0.0,>=2.4.3 in /usr/local/lib/python3.10/dist-packages (from spacy) (2.4.8)\n",
            "Requirement already satisfied: catalogue<2.1.0,>=2.0.6 in /usr/local/lib/python3.10/dist-packages (from spacy) (2.0.10)\n",
            "Requirement already satisfied: typer<0.10.0,>=0.3.0 in /usr/local/lib/python3.10/dist-packages (from spacy) (0.9.0)\n",
            "Requirement already satisfied: pathy>=0.10.0 in /usr/local/lib/python3.10/dist-packages (from spacy) (0.10.3)\n",
            "Requirement already satisfied: smart-open<7.0.0,>=5.2.1 in /usr/local/lib/python3.10/dist-packages (from spacy) (6.4.0)\n",
            "Requirement already satisfied: tqdm<5.0.0,>=4.38.0 in /usr/local/lib/python3.10/dist-packages (from spacy) (4.66.1)\n",
            "Requirement already satisfied: numpy>=1.15.0 in /usr/local/lib/python3.10/dist-packages (from spacy) (1.23.5)\n",
            "Requirement already satisfied: requests<3.0.0,>=2.13.0 in /usr/local/lib/python3.10/dist-packages (from spacy) (2.31.0)\n",
            "Requirement already satisfied: pydantic!=1.8,!=1.8.1,<3.0.0,>=1.7.4 in /usr/local/lib/python3.10/dist-packages (from spacy) (1.10.13)\n",
            "Requirement already satisfied: jinja2 in /usr/local/lib/python3.10/dist-packages (from spacy) (3.1.2)\n",
            "Requirement already satisfied: setuptools in /usr/local/lib/python3.10/dist-packages (from spacy) (67.7.2)\n",
            "Requirement already satisfied: packaging>=20.0 in /usr/local/lib/python3.10/dist-packages (from spacy) (23.2)\n",
            "Requirement already satisfied: langcodes<4.0.0,>=3.2.0 in /usr/local/lib/python3.10/dist-packages (from spacy) (3.3.0)\n",
            "Requirement already satisfied: typing-extensions>=4.2.0 in /usr/local/lib/python3.10/dist-packages (from pydantic!=1.8,!=1.8.1,<3.0.0,>=1.7.4->spacy) (4.5.0)\n",
            "Requirement already satisfied: charset-normalizer<4,>=2 in /usr/local/lib/python3.10/dist-packages (from requests<3.0.0,>=2.13.0->spacy) (3.3.2)\n",
            "Requirement already satisfied: idna<4,>=2.5 in /usr/local/lib/python3.10/dist-packages (from requests<3.0.0,>=2.13.0->spacy) (3.6)\n",
            "Requirement already satisfied: urllib3<3,>=1.21.1 in /usr/local/lib/python3.10/dist-packages (from requests<3.0.0,>=2.13.0->spacy) (2.0.7)\n",
            "Requirement already satisfied: certifi>=2017.4.17 in /usr/local/lib/python3.10/dist-packages (from requests<3.0.0,>=2.13.0->spacy) (2023.11.17)\n",
            "Requirement already satisfied: blis<0.8.0,>=0.7.8 in /usr/local/lib/python3.10/dist-packages (from thinc<8.2.0,>=8.1.8->spacy) (0.7.11)\n",
            "Requirement already satisfied: confection<1.0.0,>=0.0.1 in /usr/local/lib/python3.10/dist-packages (from thinc<8.2.0,>=8.1.8->spacy) (0.1.4)\n",
            "Requirement already satisfied: click<9.0.0,>=7.1.1 in /usr/local/lib/python3.10/dist-packages (from typer<0.10.0,>=0.3.0->spacy) (8.1.7)\n",
            "Requirement already satisfied: MarkupSafe>=2.0 in /usr/local/lib/python3.10/dist-packages (from jinja2->spacy) (2.1.3)\n"
          ]
        }
      ]
    },
    {
      "cell_type": "code",
      "source": [
        "!python -m spacy download en_core_web_sm\n"
      ],
      "metadata": {
        "colab": {
          "base_uri": "https://localhost:8080/"
        },
        "id": "K8XJ4G41CkAC",
        "outputId": "d9d0e529-7116-4c04-a7fd-4a224fd7b704"
      },
      "execution_count": 2,
      "outputs": [
        {
          "output_type": "stream",
          "name": "stdout",
          "text": [
            "2023-12-28 13:12:56.130070: E external/local_xla/xla/stream_executor/cuda/cuda_dnn.cc:9261] Unable to register cuDNN factory: Attempting to register factory for plugin cuDNN when one has already been registered\n",
            "2023-12-28 13:12:56.130126: E external/local_xla/xla/stream_executor/cuda/cuda_fft.cc:607] Unable to register cuFFT factory: Attempting to register factory for plugin cuFFT when one has already been registered\n",
            "2023-12-28 13:12:56.131575: E external/local_xla/xla/stream_executor/cuda/cuda_blas.cc:1515] Unable to register cuBLAS factory: Attempting to register factory for plugin cuBLAS when one has already been registered\n",
            "2023-12-28 13:12:56.139467: I tensorflow/core/platform/cpu_feature_guard.cc:182] This TensorFlow binary is optimized to use available CPU instructions in performance-critical operations.\n",
            "To enable the following instructions: AVX2 FMA, in other operations, rebuild TensorFlow with the appropriate compiler flags.\n",
            "2023-12-28 13:12:57.368279: W tensorflow/compiler/tf2tensorrt/utils/py_utils.cc:38] TF-TRT Warning: Could not find TensorRT\n",
            "Collecting en-core-web-sm==3.6.0\n",
            "  Downloading https://github.com/explosion/spacy-models/releases/download/en_core_web_sm-3.6.0/en_core_web_sm-3.6.0-py3-none-any.whl (12.8 MB)\n",
            "\u001b[2K     \u001b[90m━━━━━━━━━━━━━━━━━━━━━━━━━━━━━━━━━━━━━━━━\u001b[0m \u001b[32m12.8/12.8 MB\u001b[0m \u001b[31m26.2 MB/s\u001b[0m eta \u001b[36m0:00:00\u001b[0m\n",
            "\u001b[?25hRequirement already satisfied: spacy<3.7.0,>=3.6.0 in /usr/local/lib/python3.10/dist-packages (from en-core-web-sm==3.6.0) (3.6.1)\n",
            "Requirement already satisfied: spacy-legacy<3.1.0,>=3.0.11 in /usr/local/lib/python3.10/dist-packages (from spacy<3.7.0,>=3.6.0->en-core-web-sm==3.6.0) (3.0.12)\n",
            "Requirement already satisfied: spacy-loggers<2.0.0,>=1.0.0 in /usr/local/lib/python3.10/dist-packages (from spacy<3.7.0,>=3.6.0->en-core-web-sm==3.6.0) (1.0.5)\n",
            "Requirement already satisfied: murmurhash<1.1.0,>=0.28.0 in /usr/local/lib/python3.10/dist-packages (from spacy<3.7.0,>=3.6.0->en-core-web-sm==3.6.0) (1.0.10)\n",
            "Requirement already satisfied: cymem<2.1.0,>=2.0.2 in /usr/local/lib/python3.10/dist-packages (from spacy<3.7.0,>=3.6.0->en-core-web-sm==3.6.0) (2.0.8)\n",
            "Requirement already satisfied: preshed<3.1.0,>=3.0.2 in /usr/local/lib/python3.10/dist-packages (from spacy<3.7.0,>=3.6.0->en-core-web-sm==3.6.0) (3.0.9)\n",
            "Requirement already satisfied: thinc<8.2.0,>=8.1.8 in /usr/local/lib/python3.10/dist-packages (from spacy<3.7.0,>=3.6.0->en-core-web-sm==3.6.0) (8.1.12)\n",
            "Requirement already satisfied: wasabi<1.2.0,>=0.9.1 in /usr/local/lib/python3.10/dist-packages (from spacy<3.7.0,>=3.6.0->en-core-web-sm==3.6.0) (1.1.2)\n",
            "Requirement already satisfied: srsly<3.0.0,>=2.4.3 in /usr/local/lib/python3.10/dist-packages (from spacy<3.7.0,>=3.6.0->en-core-web-sm==3.6.0) (2.4.8)\n",
            "Requirement already satisfied: catalogue<2.1.0,>=2.0.6 in /usr/local/lib/python3.10/dist-packages (from spacy<3.7.0,>=3.6.0->en-core-web-sm==3.6.0) (2.0.10)\n",
            "Requirement already satisfied: typer<0.10.0,>=0.3.0 in /usr/local/lib/python3.10/dist-packages (from spacy<3.7.0,>=3.6.0->en-core-web-sm==3.6.0) (0.9.0)\n",
            "Requirement already satisfied: pathy>=0.10.0 in /usr/local/lib/python3.10/dist-packages (from spacy<3.7.0,>=3.6.0->en-core-web-sm==3.6.0) (0.10.3)\n",
            "Requirement already satisfied: smart-open<7.0.0,>=5.2.1 in /usr/local/lib/python3.10/dist-packages (from spacy<3.7.0,>=3.6.0->en-core-web-sm==3.6.0) (6.4.0)\n",
            "Requirement already satisfied: tqdm<5.0.0,>=4.38.0 in /usr/local/lib/python3.10/dist-packages (from spacy<3.7.0,>=3.6.0->en-core-web-sm==3.6.0) (4.66.1)\n",
            "Requirement already satisfied: numpy>=1.15.0 in /usr/local/lib/python3.10/dist-packages (from spacy<3.7.0,>=3.6.0->en-core-web-sm==3.6.0) (1.23.5)\n",
            "Requirement already satisfied: requests<3.0.0,>=2.13.0 in /usr/local/lib/python3.10/dist-packages (from spacy<3.7.0,>=3.6.0->en-core-web-sm==3.6.0) (2.31.0)\n",
            "Requirement already satisfied: pydantic!=1.8,!=1.8.1,<3.0.0,>=1.7.4 in /usr/local/lib/python3.10/dist-packages (from spacy<3.7.0,>=3.6.0->en-core-web-sm==3.6.0) (1.10.13)\n",
            "Requirement already satisfied: jinja2 in /usr/local/lib/python3.10/dist-packages (from spacy<3.7.0,>=3.6.0->en-core-web-sm==3.6.0) (3.1.2)\n",
            "Requirement already satisfied: setuptools in /usr/local/lib/python3.10/dist-packages (from spacy<3.7.0,>=3.6.0->en-core-web-sm==3.6.0) (67.7.2)\n",
            "Requirement already satisfied: packaging>=20.0 in /usr/local/lib/python3.10/dist-packages (from spacy<3.7.0,>=3.6.0->en-core-web-sm==3.6.0) (23.2)\n",
            "Requirement already satisfied: langcodes<4.0.0,>=3.2.0 in /usr/local/lib/python3.10/dist-packages (from spacy<3.7.0,>=3.6.0->en-core-web-sm==3.6.0) (3.3.0)\n",
            "Requirement already satisfied: typing-extensions>=4.2.0 in /usr/local/lib/python3.10/dist-packages (from pydantic!=1.8,!=1.8.1,<3.0.0,>=1.7.4->spacy<3.7.0,>=3.6.0->en-core-web-sm==3.6.0) (4.5.0)\n",
            "Requirement already satisfied: charset-normalizer<4,>=2 in /usr/local/lib/python3.10/dist-packages (from requests<3.0.0,>=2.13.0->spacy<3.7.0,>=3.6.0->en-core-web-sm==3.6.0) (3.3.2)\n",
            "Requirement already satisfied: idna<4,>=2.5 in /usr/local/lib/python3.10/dist-packages (from requests<3.0.0,>=2.13.0->spacy<3.7.0,>=3.6.0->en-core-web-sm==3.6.0) (3.6)\n",
            "Requirement already satisfied: urllib3<3,>=1.21.1 in /usr/local/lib/python3.10/dist-packages (from requests<3.0.0,>=2.13.0->spacy<3.7.0,>=3.6.0->en-core-web-sm==3.6.0) (2.0.7)\n",
            "Requirement already satisfied: certifi>=2017.4.17 in /usr/local/lib/python3.10/dist-packages (from requests<3.0.0,>=2.13.0->spacy<3.7.0,>=3.6.0->en-core-web-sm==3.6.0) (2023.11.17)\n",
            "Requirement already satisfied: blis<0.8.0,>=0.7.8 in /usr/local/lib/python3.10/dist-packages (from thinc<8.2.0,>=8.1.8->spacy<3.7.0,>=3.6.0->en-core-web-sm==3.6.0) (0.7.11)\n",
            "Requirement already satisfied: confection<1.0.0,>=0.0.1 in /usr/local/lib/python3.10/dist-packages (from thinc<8.2.0,>=8.1.8->spacy<3.7.0,>=3.6.0->en-core-web-sm==3.6.0) (0.1.4)\n",
            "Requirement already satisfied: click<9.0.0,>=7.1.1 in /usr/local/lib/python3.10/dist-packages (from typer<0.10.0,>=0.3.0->spacy<3.7.0,>=3.6.0->en-core-web-sm==3.6.0) (8.1.7)\n",
            "Requirement already satisfied: MarkupSafe>=2.0 in /usr/local/lib/python3.10/dist-packages (from jinja2->spacy<3.7.0,>=3.6.0->en-core-web-sm==3.6.0) (2.1.3)\n",
            "\u001b[38;5;2m✔ Download and installation successful\u001b[0m\n",
            "You can now load the package via spacy.load('en_core_web_sm')\n"
          ]
        }
      ]
    },
    {
      "cell_type": "code",
      "source": [
        "pip install pymupdf\n"
      ],
      "metadata": {
        "colab": {
          "base_uri": "https://localhost:8080/"
        },
        "id": "8-6trzWdC3SP",
        "outputId": "87446e9c-770e-4797-8a4c-c5d4bca935c5"
      },
      "execution_count": 3,
      "outputs": [
        {
          "output_type": "stream",
          "name": "stdout",
          "text": [
            "Collecting pymupdf\n",
            "  Downloading PyMuPDF-1.23.8-cp310-none-manylinux2014_x86_64.whl (4.4 MB)\n",
            "\u001b[2K     \u001b[90m━━━━━━━━━━━━━━━━━━━━━━━━━━━━━━━━━━━━━━━━\u001b[0m \u001b[32m4.4/4.4 MB\u001b[0m \u001b[31m11.4 MB/s\u001b[0m eta \u001b[36m0:00:00\u001b[0m\n",
            "\u001b[?25hCollecting PyMuPDFb==1.23.7 (from pymupdf)\n",
            "  Downloading PyMuPDFb-1.23.7-py3-none-manylinux2014_x86_64.manylinux_2_17_x86_64.whl (30.6 MB)\n",
            "\u001b[2K     \u001b[90m━━━━━━━━━━━━━━━━━━━━━━━━━━━━━━━━━━━━━━━━\u001b[0m \u001b[32m30.6/30.6 MB\u001b[0m \u001b[31m17.3 MB/s\u001b[0m eta \u001b[36m0:00:00\u001b[0m\n",
            "\u001b[?25hInstalling collected packages: PyMuPDFb, pymupdf\n",
            "Successfully installed PyMuPDFb-1.23.7 pymupdf-1.23.8\n"
          ]
        }
      ]
    },
    {
      "cell_type": "code",
      "source": [
        "import fitz\n",
        "import spacy\n",
        "from spacy.matcher import Matcher\n",
        "\n",
        "def extract_text_from_pdf(pdf_path):\n",
        "    text = ''\n",
        "    with fitz.open(pdf_path) as pdf_doc:\n",
        "        for page_num in range(pdf_doc.page_count):\n",
        "            page = pdf_doc[page_num]\n",
        "            text += page.get_text()\n",
        "    return text\n",
        "\n",
        "def extract_information(text):\n",
        "    nlp = spacy.load(\"en_core_web_sm\")\n",
        "    doc = nlp(text)\n",
        "\n",
        "    matcher = Matcher(nlp.vocab)\n",
        "\n",
        "\n",
        "    email_pattern = [{\"LIKE_EMAIL\": True}]\n",
        "    phone_pattern = [{\"TEXT\": {\"REGEX\": r'\\b\\d{3}[-.\\s]?\\d{3}[-.\\s]?\\d{4}\\b'}}]\n",
        "    skills_pattern = [{\"LOWER\": {\"IN\": [\"python\", \"java\", \"c++\", \"javascript\", \"sql\"]}}]\n",
        "    education_pattern = [{\"LOWER\": \"education\"}, {\"POS\": \"ADP\"}, {\"POS\": \"NOUN\"}]\n",
        "    experience_pattern = [{\"LOWER\": {\"IN\": [\"experience\", \"work\"]}}, {\"POS\": \"ADP\"}, {\"POS\": \"NOUN\"}]\n",
        "\n",
        "    matcher.add(\"Email\", [email_pattern])\n",
        "    matcher.add(\"Phone\", [phone_pattern])\n",
        "    matcher.add(\"Skills\", [skills_pattern])\n",
        "    matcher.add(\"Education\", [education_pattern])\n",
        "    matcher.add(\"Experience\", [experience_pattern])\n",
        "\n",
        "    matches = matcher(doc)\n",
        "\n",
        "    information = {\n",
        "        \"name\": None,\n",
        "        \"email\": None,\n",
        "        \"phone\": None,\n",
        "        \"skills\": [],\n",
        "        \"education\": [],\n",
        "        \"experience\": [],\n",
        "    }\n",
        "\n",
        "    for match_id, start, end in matches:\n",
        "        match_id_str = nlp.vocab.strings[match_id]\n",
        "        if match_id_str == \"Email\":\n",
        "            information[\"email\"] = doc[start:end].text\n",
        "        elif match_id_str == \"Phone\":\n",
        "            information[\"phone\"] = doc[start:end].text\n",
        "        elif match_id_str == \"Skills\":\n",
        "            information[\"skills\"].append(doc[start:end].text)\n",
        "        elif match_id_str == \"Education\":\n",
        "            information[\"education\"].append(doc[start:end].text)\n",
        "        elif match_id_str == \"Experience\":\n",
        "            information[\"experience\"].append(doc[start:end].text)\n",
        "\n",
        "\n",
        "    if doc and doc[0].is_alpha:\n",
        "        information[\"name\"] = doc[0].text\n",
        "\n",
        "    return information\n",
        "\n",
        "if __name__ == \"__main__\":\n",
        "\n",
        "    resume_path = \"/content/AashishaNegi.pdf\"\n",
        "\n",
        "\n",
        "    resume_text = extract_text_from_pdf(resume_path)\n",
        "\n",
        "    resume_info = extract_information(resume_text)\n",
        "\n",
        "    print(\"Name:\", resume_info[\"name\"])\n",
        "    print(\"Email:\", resume_info[\"email\"])\n",
        "    print(\"Phone:\", resume_info[\"phone\"])\n",
        "    print(\"Skills:\", resume_info[\"skills\"])\n",
        "    print(\"Education:\", resume_info[\"education\"])\n",
        "    print(\"Experience:\", resume_info[\"experience\"])\n"
      ],
      "metadata": {
        "colab": {
          "base_uri": "https://localhost:8080/"
        },
        "id": "G7pFBfvRCkHT",
        "outputId": "44385d7c-2ae7-48d4-8708-24f6ac268f1d"
      },
      "execution_count": 19,
      "outputs": [
        {
          "output_type": "stream",
          "name": "stdout",
          "text": [
            "Name: AASHISHA\n",
            "Email: aashishanegi2303@gmail.com\n",
            "Phone: 7003995974\n",
            "Skills: ['SQL', 'C++', 'Java', 'SQL']\n",
            "Education: []\n",
            "Experience: []\n"
          ]
        }
      ]
    },
    {
      "cell_type": "code",
      "source": [
        "import fitz\n",
        "import spacy\n",
        "\n",
        "def extract_text_from_pdf(pdf_path):\n",
        "    text = ''\n",
        "    with fitz.open(pdf_path) as pdf_doc:\n",
        "        for page_num in range(pdf_doc.page_count):\n",
        "            page = pdf_doc[page_num]\n",
        "            text += page.get_text()\n",
        "    return text\n",
        "\n",
        "def extract_information(text):\n",
        "    nlp = spacy.load(\"en_core_web_sm\")\n",
        "    doc = nlp(text)\n",
        "\n",
        "    information = {\n",
        "        \"name\": None,\n",
        "        \"email\": None,\n",
        "        \"phone\": None,\n",
        "        \"skills\": [],\n",
        "        \"education\": [],\n",
        "        \"experience\": [],\n",
        "    }\n",
        "\n",
        "    for ent in doc.ents:\n",
        "        if ent.label_ == \"PERSON\" and information[\"name\"] is None:\n",
        "            information[\"name\"] = ent.text\n",
        "        elif ent.label_ == \"EMAIL\" and information[\"email\"] is None:\n",
        "            information[\"email\"] = ent.text\n",
        "        elif ent.label_ == \"PHONE\" and information[\"phone\"] is None:\n",
        "            information[\"phone\"] = ent.text\n",
        "        elif ent.label_ == \"ORG\" and (\"education\" in ent.text.lower() or \"school\" in ent.text.lower()):\n",
        "            information[\"education\"].append(ent.text)\n",
        "        elif ent.label_ == \"ORG\" and (\"experience\" in ent.text.lower() or \"work\" in ent.text.lower()):\n",
        "            information[\"experience\"].append(ent.text)\n",
        "\n",
        "    return information\n",
        "\n",
        "if __name__ == \"__main__\":\n",
        "\n",
        "    resume_path = \"/content/AashishaNegi.pdf\"\n",
        "\n",
        "    resume_text = extract_text_from_pdf(resume_path)\n",
        "\n",
        "    resume_info = extract_information(resume_text)\n",
        "\n",
        "    print(\"Name:\", resume_info[\"name\"])\n",
        "    print(\"Email:\", resume_info[\"email\"])\n",
        "    print(\"Phone:\", resume_info[\"phone\"])\n",
        "    print(\"Skills:\", resume_info[\"skills\"])\n",
        "    print(\"Education:\", resume_info[\"education\"])\n",
        "    print(\"Experience:\", resume_info[\"experience\"])\n"
      ],
      "metadata": {
        "colab": {
          "base_uri": "https://localhost:8080/"
        },
        "id": "cF639Fy9D2W4",
        "outputId": "96ed4f1d-c619-4839-bbbb-5d75449106c7"
      },
      "execution_count": 15,
      "outputs": [
        {
          "output_type": "stream",
          "name": "stdout",
          "text": [
            "Name: Cloud Computing\n",
            "Email: None\n",
            "Phone: None\n",
            "Skills: []\n",
            "Education: ['Council for Indian School Certificate Examination', 'Council for Indian School Certificate Examination']\n",
            "Experience: []\n"
          ]
        }
      ]
    },
    {
      "cell_type": "code",
      "source": [
        "import fitz\n",
        "import spacy\n",
        "from spacy.matcher import Matcher\n",
        "\n",
        "def extract_text_from_pdf(pdf_path):\n",
        "    text = ''\n",
        "    with fitz.open(pdf_path) as pdf_doc:\n",
        "        for page_num in range(pdf_doc.page_count):\n",
        "            page = pdf_doc[page_num]\n",
        "            text += page.get_text()\n",
        "    return text\n",
        "\n",
        "def extract_information(text):\n",
        "    nlp = spacy.load(\"en_core_web_sm\")\n",
        "    doc = nlp(text)\n",
        "\n",
        "    matcher = Matcher(nlp.vocab)\n",
        "\n",
        "    name_pattern = [{\"ENT_TYPE\": \"PERSON\"}]\n",
        "    email_pattern = [{\"LIKE_EMAIL\": True}]\n",
        "    phone_pattern = [{\"TEXT\": {\"REGEX\": r'\\b\\d{3}[-.\\s]?\\d{3}[-.\\s]?\\d{4}\\b'}}]\n",
        "    skills_pattern = [{\"LOWER\": {\"IN\": [\"python\", \"java\", \"c++\", \"javascript\", \"sql\"]}}]\n",
        "\n",
        "    matcher.add(\"Name\", [name_pattern])\n",
        "    matcher.add(\"Email\", [email_pattern])\n",
        "    matcher.add(\"Phone\", [phone_pattern])\n",
        "    matcher.add(\"Skills\", [skills_pattern])\n",
        "\n",
        "    matches = matcher(doc)\n",
        "\n",
        "    information = {\n",
        "        \"name\": None,\n",
        "        \"email\": None,\n",
        "        \"phone\": None,\n",
        "        \"skills\": [],\n",
        "        \"education\": [],\n",
        "        \"experience\": [],\n",
        "    }\n",
        "\n",
        "    for ent in doc.ents:\n",
        "        if ent.label_ == \"ORG\" and (\"education\" in ent.text.lower() or \"school\" in ent.text.lower()):\n",
        "            information[\"education\"].append(ent.text)\n",
        "        elif ent.label_ == \"ORG\" and (\"experience\" in ent.text.lower() or \"work\" in ent.text.lower()):\n",
        "            information[\"experience\"].append(ent.text)\n",
        "\n",
        "    for match_id, start, end in matches:\n",
        "        match_id_str = nlp.vocab.strings[match_id]\n",
        "        if match_id_str == \"Email\" and information[\"email\"] is None:\n",
        "            information[\"email\"] = doc[start:end].text\n",
        "        elif match_id_str == \"Phone\" and information[\"phone\"] is None:\n",
        "            information[\"phone\"] = doc[start:end].text\n",
        "        elif match_id_str == \"Skills\":\n",
        "            information[\"skills\"].append(doc[start:end].text)\n",
        "\n",
        "    if doc and doc[0].is_alpha:\n",
        "        information[\"name\"] = doc[0].text\n",
        "\n",
        "    return information\n",
        "\n",
        "if __name__ == \"__main__\":\n",
        "\n",
        "    resume_path = \"/content/Utkarsh_Rastogi.pdf\"\n",
        "\n",
        "    resume_text = extract_text_from_pdf(resume_path)\n",
        "\n",
        "    resume_info = extract_information(resume_text)\n",
        "\n",
        "    print(\"Name:\", resume_info[\"name\"])\n",
        "    print(\"Email:\", resume_info[\"email\"])\n",
        "    print(\"Phone:\", resume_info[\"phone\"])\n",
        "    print(\"Skills:\", resume_info[\"skills\"])\n",
        "    print(\"Education:\", resume_info[\"education\"])\n",
        "    print(\"Experience:\", resume_info[\"experience\"])\n"
      ],
      "metadata": {
        "colab": {
          "base_uri": "https://localhost:8080/"
        },
        "id": "4MQXgZiSEVUU",
        "outputId": "4af5e728-4b72-4d06-d6d1-2fa2a5620f37"
      },
      "execution_count": 21,
      "outputs": [
        {
          "output_type": "stream",
          "name": "stdout",
          "text": [
            "Name: UTKARSH\n",
            "Email: utkarshrastogi010@gmail.com\n",
            "Phone: 8171538808\n",
            "Skills: ['SQL', 'C++', 'Python', 'Java', 'SQL', 'C++', 'Python']\n",
            "Education: ['EDUCATION', 'All India Senior School Certificate Examination', 'Birla Public School', 'All India Secondary School Examination', 'Birla Public School']\n",
            "Experience: ['EXPERIENCE']\n"
          ]
        }
      ]
    },
    {
      "cell_type": "code",
      "source": [
        "import fitz\n",
        "import re\n",
        "\n",
        "def extract_text_from_pdf(pdf_path):\n",
        "    text = ''\n",
        "    with fitz.open(pdf_path) as pdf_doc:\n",
        "        for page_num in range(pdf_doc.page_count):\n",
        "            page = pdf_doc[page_num]\n",
        "            text += page.get_text()\n",
        "    return text\n",
        "\n",
        "def extract_information(text):\n",
        "    information = {\n",
        "        \"name\": None,\n",
        "        \"email\": None,\n",
        "        \"phone\": None,\n",
        "        \"education\": [],\n",
        "        \"experience\": [],\n",
        "    }\n",
        "\n",
        "    name_match = re.search(r'^([^\\n]+)', text)\n",
        "    if name_match:\n",
        "        information[\"name\"] = name_match.group(1).strip()\n",
        "\n",
        "    email_match = re.search(r'[\\w\\.-]+@[\\w\\.-]+', text)\n",
        "    if email_match:\n",
        "        information[\"email\"] = email_match.group()\n",
        "\n",
        "    phone_match = re.search(r'\\b\\d{3}[-.\\s]?\\d{3}[-.\\s]?\\d{4}\\b', text)\n",
        "    if phone_match:\n",
        "        information[\"phone\"] = phone_match.group()\n",
        "\n",
        "    education_matches = re.findall(r'Education[:\\s]+([^\\n]+)', text, re.IGNORECASE)\n",
        "    information[\"education\"] = [edu.strip() for edu in education_matches]\n",
        "\n",
        "    experience_matches = re.findall(r'Experience[:\\s]+([^\\n]+)', text, re.IGNORECASE)\n",
        "    information[\"experience\"] = [exp.strip() for exp in experience_matches]\n",
        "\n",
        "    return information\n",
        "\n",
        "if __name__ == \"__main__\":\n",
        "\n",
        "    resume_path = \"/content/Utkarsh_Rastogi.pdf\"\n",
        "\n",
        "    resume_text = extract_text_from_pdf(resume_path)\n",
        "\n",
        "    resume_info = extract_information(resume_text)\n",
        "\n",
        "    print(\"Name:\", resume_info[\"name\"])\n",
        "    print(\"Email:\", resume_info[\"email\"])\n",
        "    print(\"Phone:\", resume_info[\"phone\"])\n",
        "    print(\"Education:\", resume_info[\"education\"])\n",
        "    print(\"Experience:\", resume_info[\"experience\"])\n"
      ],
      "metadata": {
        "colab": {
          "base_uri": "https://localhost:8080/"
        },
        "id": "-8q5ftYQG-U3",
        "outputId": "c163f44c-d958-406c-dc9e-ce716e7408c9"
      },
      "execution_count": 20,
      "outputs": [
        {
          "output_type": "stream",
          "name": "stdout",
          "text": [
            "Name: UTKARSH RASTOGI\n",
            "Email: utkarshrastogi010@gmail.com\n",
            "Phone: 8171538808\n",
            "Education: ['Bachelor of Technology Computer Science, UPES, Dehradun']\n",
            "Experience: ['AI Intern', '• Open Source Contributor at Hacktoberfest 2022 & 2023.']\n"
          ]
        }
      ]
    }
  ]
}