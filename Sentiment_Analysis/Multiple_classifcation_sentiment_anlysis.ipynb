{
  "nbformat": 4,
  "nbformat_minor": 0,
  "metadata": {
    "colab": {
      "provenance": []
    },
    "kernelspec": {
      "name": "python3",
      "display_name": "Python 3"
    },
    "language_info": {
      "name": "python"
    }
  },
  "cells": [
    {
      "cell_type": "code",
      "source": [
        "pip install vaderSentiment"
      ],
      "metadata": {
        "colab": {
          "base_uri": "https://localhost:8080/"
        },
        "id": "OF7xuOLx7UnH",
        "outputId": "6a99f7fc-628d-4a2b-8d48-fe5f124f9624"
      },
      "execution_count": 6,
      "outputs": [
        {
          "output_type": "stream",
          "name": "stdout",
          "text": [
            "Requirement already satisfied: vaderSentiment in /usr/local/lib/python3.10/dist-packages (3.3.2)\n",
            "Requirement already satisfied: requests in /usr/local/lib/python3.10/dist-packages (from vaderSentiment) (2.31.0)\n",
            "Requirement already satisfied: charset-normalizer<4,>=2 in /usr/local/lib/python3.10/dist-packages (from requests->vaderSentiment) (3.3.2)\n",
            "Requirement already satisfied: idna<4,>=2.5 in /usr/local/lib/python3.10/dist-packages (from requests->vaderSentiment) (3.6)\n",
            "Requirement already satisfied: urllib3<3,>=1.21.1 in /usr/local/lib/python3.10/dist-packages (from requests->vaderSentiment) (2.0.7)\n",
            "Requirement already satisfied: certifi>=2017.4.17 in /usr/local/lib/python3.10/dist-packages (from requests->vaderSentiment) (2023.11.17)\n"
          ]
        }
      ]
    },
    {
      "cell_type": "code",
      "execution_count": 8,
      "metadata": {
        "colab": {
          "base_uri": "https://localhost:8080/"
        },
        "id": "paCKjDN37QhE",
        "outputId": "0212d0c6-53db-42e4-e041-9f6fbbf47fdf"
      },
      "outputs": [
        {
          "output_type": "stream",
          "name": "stdout",
          "text": [
            "Enter a statement:\n",
            "I like the company\n",
            "Overall sentiment dictionary is:  {'neg': 0.0, 'neu': 0.545, 'pos': 0.455, 'compound': 0.3612}\n",
            "Negative:  0.0 %\n",
            "Neutral:  54.50000000000001 %\n",
            "Positive:  45.5 %\n",
            "Sentence Overall Rated As Positive\n"
          ]
        }
      ],
      "source": [
        "from vaderSentiment.vaderSentiment import SentimentIntensityAnalyzer\n",
        "\n",
        "def sentiment_categories(sentence):\n",
        "    sid_obj = SentimentIntensityAnalyzer()\n",
        "    sentiment_dict = sid_obj.polarity_scores(sentence)\n",
        "\n",
        "    print(\"Overall sentiment dictionary is: \", sentiment_dict)\n",
        "    print(\"Negative: \", sentiment_dict['neg'] * 100, \"%\")\n",
        "    print(\"Neutral: \", sentiment_dict['neu'] * 100, \"%\")\n",
        "    print(\"Positive: \", sentiment_dict['pos'] * 100, \"%\")\n",
        "\n",
        "    print(\"Sentence Overall Rated As\", end=\" \")\n",
        "\n",
        "    compound_score = sentiment_dict['compound']\n",
        "\n",
        "    if compound_score >= 0.6:\n",
        "        print(\"Strongly Positive\")\n",
        "    elif 0.6 > compound_score >= 0.1:\n",
        "        print(\"Positive\")\n",
        "    elif -0.1 <= compound_score <= 0.1:\n",
        "        print(\"Neutral\")\n",
        "    elif -0.4 <= compound_score < -0.1:\n",
        "        print(\"Negative\")\n",
        "    else:\n",
        "        print(\"Angry\")\n",
        "\n",
        "\n",
        "if __name__ == \"__main__\":\n",
        "    print(\"Enter a statement:\")\n",
        "    sentence = input()\n",
        "    sentiment_categories(sentence)\n"
      ]
    }
  ]
}